{
  "nbformat": 4,
  "nbformat_minor": 0,
  "metadata": {
    "colab": {
      "name": "2020.04.17_#3.ipynb",
      "provenance": [],
      "authorship_tag": "ABX9TyMP+5Sz+1TORfUm4GSgMhL/",
      "include_colab_link": true
    },
    "kernelspec": {
      "name": "python3",
      "display_name": "Python 3"
    }
  },
  "cells": [
    {
      "cell_type": "markdown",
      "metadata": {
        "id": "view-in-github",
        "colab_type": "text"
      },
      "source": [
        "<a href=\"https://colab.research.google.com/github/EuGeneB13/EuGeneBaek-H/blob/master/2020_04_17_%233.ipynb\" target=\"_parent\"><img src=\"https://colab.research.google.com/assets/colab-badge.svg\" alt=\"Open In Colab\"/></a>"
      ]
    },
    {
      "cell_type": "code",
      "metadata": {
        "id": "P_BN4wKmjT4a",
        "colab_type": "code",
        "colab": {}
      },
      "source": [
        "# Assignment 3\n",
        "\n",
        "#1\n",
        "L1 = ['rap','house','electronic music', 'rap']"
      ],
      "execution_count": 0,
      "outputs": []
    },
    {
      "cell_type": "code",
      "metadata": {
        "id": "PJVxLn6Kjf0j",
        "colab_type": "code",
        "colab": {}
      },
      "source": [
        "S1 = set(L1)"
      ],
      "execution_count": 0,
      "outputs": []
    },
    {
      "cell_type": "code",
      "metadata": {
        "id": "PEL_hV39jl0K",
        "colab_type": "code",
        "colab": {
          "base_uri": "https://localhost:8080/",
          "height": 35
        },
        "outputId": "6c121d8d-a1aa-4bb6-d113-5aebc41a2458"
      },
      "source": [
        "S1"
      ],
      "execution_count": 5,
      "outputs": [
        {
          "output_type": "execute_result",
          "data": {
            "text/plain": [
              "{'electronic music', 'house', 'rap'}"
            ]
          },
          "metadata": {
            "tags": []
          },
          "execution_count": 5
        }
      ]
    },
    {
      "cell_type": "code",
      "metadata": {
        "id": "QtgeS3WDjsdp",
        "colab_type": "code",
        "colab": {}
      },
      "source": [
        "#2\n",
        "A = [1, 2, 2, 1]\n",
        "B = set([1, 2, 2, 1])"
      ],
      "execution_count": 0,
      "outputs": []
    },
    {
      "cell_type": "code",
      "metadata": {
        "id": "HZCpeEbwj2xR",
        "colab_type": "code",
        "colab": {
          "base_uri": "https://localhost:8080/",
          "height": 35
        },
        "outputId": "0b1c4324-9915-4cd6-e905-d19fde29f9b0"
      },
      "source": [
        "sum(A) == sum(B)"
      ],
      "execution_count": 15,
      "outputs": [
        {
          "output_type": "execute_result",
          "data": {
            "text/plain": [
              "False"
            ]
          },
          "metadata": {
            "tags": []
          },
          "execution_count": 15
        }
      ]
    },
    {
      "cell_type": "code",
      "metadata": {
        "id": "m_5iu-37kC7_",
        "colab_type": "code",
        "colab": {
          "base_uri": "https://localhost:8080/",
          "height": 35
        },
        "outputId": "4767b9c1-f009-403e-df71-7fc6ac62cb3c"
      },
      "source": [
        "sum(A) != sum(B)"
      ],
      "execution_count": 16,
      "outputs": [
        {
          "output_type": "execute_result",
          "data": {
            "text/plain": [
              "True"
            ]
          },
          "metadata": {
            "tags": []
          },
          "execution_count": 16
        }
      ]
    },
    {
      "cell_type": "code",
      "metadata": {
        "id": "BCKpIiQbk0-p",
        "colab_type": "code",
        "colab": {
          "base_uri": "https://localhost:8080/",
          "height": 53
        },
        "outputId": "4fb609bd-5c95-456c-8e61-ac08dd09c783"
      },
      "source": [
        "print(sum(A))\n",
        "print(sum(B))"
      ],
      "execution_count": 17,
      "outputs": [
        {
          "output_type": "stream",
          "text": [
            "6\n",
            "3\n"
          ],
          "name": "stdout"
        }
      ]
    },
    {
      "cell_type": "code",
      "metadata": {
        "id": "xYz2PKgfkv3h",
        "colab_type": "code",
        "colab": {}
      },
      "source": [
        "#3\n",
        "album_set1 = set([\"Thriller\", 'AC/DC', 'Back in Black'])\n",
        "album_set2 = set([ \"AC/DC\", \"Back in Black\", \"The Dark Side of the Moon\"])"
      ],
      "execution_count": 0,
      "outputs": []
    },
    {
      "cell_type": "code",
      "metadata": {
        "id": "DERlXxZ3lDOi",
        "colab_type": "code",
        "colab": {}
      },
      "source": [
        "album_set3 = album_set1 | album_set2"
      ],
      "execution_count": 0,
      "outputs": []
    },
    {
      "cell_type": "code",
      "metadata": {
        "id": "R3ROSiTRlLnb",
        "colab_type": "code",
        "colab": {
          "base_uri": "https://localhost:8080/",
          "height": 35
        },
        "outputId": "abaf842b-74db-4412-947a-14059f46ed34"
      },
      "source": [
        "album_set3"
      ],
      "execution_count": 22,
      "outputs": [
        {
          "output_type": "execute_result",
          "data": {
            "text/plain": [
              "{'AC/DC', 'Back in Black', 'The Dark Side of the Moon', 'Thriller'}"
            ]
          },
          "metadata": {
            "tags": []
          },
          "execution_count": 22
        }
      ]
    },
    {
      "cell_type": "code",
      "metadata": {
        "id": "utO2MwgPlfGl",
        "colab_type": "code",
        "colab": {
          "base_uri": "https://localhost:8080/",
          "height": 35
        },
        "outputId": "a91ff7bf-68dc-4c23-b517-ec58a078bc87"
      },
      "source": [
        "#4\n",
        "if album_set1.issubset(album_set3):\n",
        "  print(\"album_set1 is a subset of album_set3\")\n",
        "else:\n",
        "  print(\"album_set1 is bigger than album_set3\")"
      ],
      "execution_count": 25,
      "outputs": [
        {
          "output_type": "stream",
          "text": [
            "album_set1 is a subset of album_set3\n"
          ],
          "name": "stdout"
        }
      ]
    }
  ]
}