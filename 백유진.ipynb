{
  "nbformat": 4,
  "nbformat_minor": 0,
  "metadata": {
    "colab": {
      "name": "백유진.ipynb",
      "provenance": [],
      "authorship_tag": "ABX9TyMDSty96zBhRf/4BlJ07m9h",
      "include_colab_link": true
    },
    "kernelspec": {
      "name": "python3",
      "display_name": "Python 3"
    }
  },
  "cells": [
    {
      "cell_type": "markdown",
      "metadata": {
        "id": "view-in-github",
        "colab_type": "text"
      },
      "source": [
        "<a href=\"https://colab.research.google.com/github/EuGeneB13/EuGeneBaek-H/blob/master/%EB%B0%B1%EC%9C%A0%EC%A7%84.ipynb\" target=\"_parent\"><img src=\"https://colab.research.google.com/assets/colab-badge.svg\" alt=\"Open In Colab\"/></a>"
      ]
    },
    {
      "cell_type": "code",
      "metadata": {
        "id": "LSszzeSiap7l",
        "colab_type": "code",
        "colab": {
          "base_uri": "https://localhost:8080/",
          "height": 35
        },
        "outputId": "8d104033-56cb-49ba-b16b-e1902e7133be"
      },
      "source": [
        "# Q1 - Write your code below and prsee Shift+enter to execute\n",
        "\n",
        "print(\"Hello World!!!\")"
      ],
      "execution_count": 1,
      "outputs": [
        {
          "output_type": "stream",
          "text": [
            "Hello World!!!\n"
          ],
          "name": "stdout"
        }
      ]
    },
    {
      "cell_type": "code",
      "metadata": {
        "id": "c9Plmmfvbzoh",
        "colab_type": "code",
        "colab": {
          "base_uri": "https://localhost:8080/",
          "height": 35
        },
        "outputId": "7a3e0502-0d96-483b-e671-536dc9bdccc9"
      },
      "source": [
        "# Pop quiz #2 \n",
        "# 2-1. write your code below about \"What is the data type of the result 6 / 2?\n",
        "# 2-2. write your code below about \"What is the data type of the result 6 // 2?\n",
        "\n",
        "6 / 2 #float"
      ],
      "execution_count": 5,
      "outputs": [
        {
          "output_type": "execute_result",
          "data": {
            "text/plain": [
              "3.0"
            ]
          },
          "metadata": {
            "tags": []
          },
          "execution_count": 5
        }
      ]
    },
    {
      "cell_type": "code",
      "metadata": {
        "id": "ZLw8AE3lcPN4",
        "colab_type": "code",
        "colab": {
          "base_uri": "https://localhost:8080/",
          "height": 35
        },
        "outputId": "2158f9fe-caa5-424a-b668-3472dbde3ef2"
      },
      "source": [
        "6 // 2 #integer"
      ],
      "execution_count": 6,
      "outputs": [
        {
          "output_type": "execute_result",
          "data": {
            "text/plain": [
              "3"
            ]
          },
          "metadata": {
            "tags": []
          },
          "execution_count": 6
        }
      ]
    },
    {
      "cell_type": "code",
      "metadata": {
        "id": "czFw26oLcSjJ",
        "colab_type": "code",
        "colab": {
          "base_uri": "https://localhost:8080/",
          "height": 35
        },
        "outputId": "1c0f26c3-a036-4a13-e13e-6e0cb9f29d9d"
      },
      "source": [
        "# Pop-Quiz #3\n",
        "\n",
        "Total_Min = 1300\n",
        "Total_Hour = Total_Min/60\n",
        "Total_Time_Representing = int(Total_Hour) + (Total_Min - 60*int(Total_Hour))/100\n",
        "# 1300 mins to convert into Total_Hour and the remaining goes into Minutes\n",
        "# write a code to read the total mins (e.g, 1300) to the right representing the hour, and the minute separately.\n",
        "\n",
        "print(Total_Time_Representing)"
      ],
      "execution_count": 11,
      "outputs": [
        {
          "output_type": "stream",
          "text": [
            "21.4\n"
          ],
          "name": "stdout"
        }
      ]
    }
  ]
}