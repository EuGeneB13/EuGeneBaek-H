{
  "nbformat": 4,
  "nbformat_minor": 0,
  "metadata": {
    "colab": {
      "name": "2020.04.24_#1.ipynb",
      "provenance": [],
      "authorship_tag": "ABX9TyPQEN+jJeWGx2epHF3wM1ub",
      "include_colab_link": true
    },
    "kernelspec": {
      "name": "python3",
      "display_name": "Python 3"
    }
  },
  "cells": [
    {
      "cell_type": "markdown",
      "metadata": {
        "id": "view-in-github",
        "colab_type": "text"
      },
      "source": [
        "<a href=\"https://colab.research.google.com/github/EuGeneB13/EuGeneBaek-H/blob/master/2020_04_24_%231.ipynb\" target=\"_parent\"><img src=\"https://colab.research.google.com/assets/colab-badge.svg\" alt=\"Open In Colab\"/></a>"
      ]
    },
    {
      "cell_type": "code",
      "metadata": {
        "id": "hOMGGLd6Enae",
        "colab_type": "code",
        "colab": {}
      },
      "source": [
        "# Assignment 1\n",
        "\n",
        "import matplotlib.pyplot as plt\n",
        "%matplotlib inline"
      ],
      "execution_count": 0,
      "outputs": []
    },
    {
      "cell_type": "code",
      "metadata": {
        "id": "9BEmxF05cPCi",
        "colab_type": "code",
        "colab": {}
      },
      "source": [
        "class Rectangle():\n",
        "  def __init__(self, width, height, color):\n",
        "    self.width = width\n",
        "    self.height = height\n",
        "    self.color = color\n",
        "\n",
        "  def change_width(self, width):\n",
        "    self.width = self.width + width\n",
        "    return(self.width)\n",
        "\n",
        "  def change_height(self, height):\n",
        "    self.height = self.height + height\n",
        "    return(self.height)\n",
        "\n",
        "  def change_color(self, color):\n",
        "    self.color = color\n",
        "    return(self.color)\n",
        "\n",
        "  def drawRectangle(self):\n",
        "    plt.gca().add_patch(plt.Rectangle((0,0), self.width, self.height, fc = self.color))\n",
        "    plt.axis('scaled')\n",
        "    plt.show()"
      ],
      "execution_count": 0,
      "outputs": []
    },
    {
      "cell_type": "code",
      "metadata": {
        "id": "EjZod2iahwTx",
        "colab_type": "code",
        "colab": {}
      },
      "source": [
        "My_Rectangle = Rectangle(2, 6, 'orange')"
      ],
      "execution_count": 0,
      "outputs": []
    },
    {
      "cell_type": "code",
      "metadata": {
        "id": "chhkg7AhkLoK",
        "colab_type": "code",
        "colab": {
          "base_uri": "https://localhost:8080/",
          "height": 265
        },
        "outputId": "92672cbf-f733-4045-e215-176212fbb552"
      },
      "source": [
        "My_Rectangle.drawRectangle()"
      ],
      "execution_count": 47,
      "outputs": [
        {
          "output_type": "display_data",
          "data": {
            "image/png": "[encoded data removed]",
            "text/plain": [
              "<Figure size 432x288 with 1 Axes>"
            ]
          },
          "metadata": {
            "tags": [],
            "needs_background": "light"
          }
        }
      ]
    },
    {
      "cell_type": "code",
      "metadata": {
        "id": "hpMGohTkkODH",
        "colab_type": "code",
        "colab": {
          "base_uri": "https://localhost:8080/",
          "height": 35
        },
        "outputId": "59772df1-728c-4235-cae9-550509427de7"
      },
      "source": [
        "My_Rectangle.change_width(2)"
      ],
      "execution_count": 48,
      "outputs": [
        {
          "output_type": "execute_result",
          "data": {
            "text/plain": [
              "4"
            ]
          },
          "metadata": {
            "tags": []
          },
          "execution_count": 48
        }
      ]
    },
    {
      "cell_type": "code",
      "metadata": {
        "id": "DlP5FLzFkXn6",
        "colab_type": "code",
        "colab": {
          "base_uri": "https://localhost:8080/",
          "height": 35
        },
        "outputId": "93440387-349d-4234-81d3-63866649be21"
      },
      "source": [
        "My_Rectangle.change_height(-2)"
      ],
      "execution_count": 49,
      "outputs": [
        {
          "output_type": "execute_result",
          "data": {
            "text/plain": [
              "4"
            ]
          },
          "metadata": {
            "tags": []
          },
          "execution_count": 49
        }
      ]
    },
    {
      "cell_type": "code",
      "metadata": {
        "id": "E6LoYektkdpH",
        "colab_type": "code",
        "colab": {
          "base_uri": "https://localhost:8080/",
          "height": 35
        },
        "outputId": "47433b9c-f42d-436a-fc81-71bf0ff99ae5"
      },
      "source": [
        "My_Rectangle.change_color('green')"
      ],
      "execution_count": 51,
      "outputs": [
        {
          "output_type": "execute_result",
          "data": {
            "text/plain": [
              "'green'"
            ]
          },
          "metadata": {
            "tags": []
          },
          "execution_count": 51
        }
      ]
    },
    {
      "cell_type": "code",
      "metadata": {
        "id": "ZJVr4W8Lkya3",
        "colab_type": "code",
        "colab": {
          "base_uri": "https://localhost:8080/",
          "height": 265
        },
        "outputId": "894a172a-120a-457d-f373-f89dc83dddf6"
      },
      "source": [
        "My_Rectangle.drawRectangle()"
      ],
      "execution_count": 52,
      "outputs": [
        {
          "output_type": "display_data",
          "data": {
            "image/png": "[encoded data removed]",
            "text/plain": [
              "<Figure size 432x288 with 1 Axes>"
            ]
          },
          "metadata": {
            "tags": [],
            "needs_background": "light"
          }
        }
      ]
    },
    {
      "cell_type": "code",
      "metadata": {
        "id": "RJa1VXNXlwDa",
        "colab_type": "code",
        "colab": {}
      },
      "source": [
        ""
      ],
      "execution_count": 0,
      "outputs": []
    }
  ]
}