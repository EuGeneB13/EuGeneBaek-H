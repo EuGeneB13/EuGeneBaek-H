{
  "nbformat": 4,
  "nbformat_minor": 0,
  "metadata": {
    "colab": {
      "name": "2020.04.17_#4.ipynb",
      "provenance": [],
      "authorship_tag": "ABX9TyNr417HPISryhFjOtlQnbuQ",
      "include_colab_link": true
    },
    "kernelspec": {
      "name": "python3",
      "display_name": "Python 3"
    }
  },
  "cells": [
    {
      "cell_type": "markdown",
      "metadata": {
        "id": "view-in-github",
        "colab_type": "text"
      },
      "source": [
        "<a href=\"https://colab.research.google.com/github/EuGeneB13/EuGeneBaek-H/blob/master/2020_04_17_%234.ipynb\" target=\"_parent\"><img src=\"https://colab.research.google.com/assets/colab-badge.svg\" alt=\"Open In Colab\"/></a>"
      ]
    },
    {
      "cell_type": "code",
      "metadata": {
        "id": "bFszlVe-MOyr",
        "colab_type": "code",
        "colab": {}
      },
      "source": [
        "# Assignment 4-1\n",
        "\n",
        "Dict = {\"Artist\" : \"Michael\", \"Genre\" : \"R&B\", \"Sales\" : 10000}"
      ],
      "execution_count": 0,
      "outputs": []
    },
    {
      "cell_type": "code",
      "metadata": {
        "id": "6IfiSskAMlBT",
        "colab_type": "code",
        "outputId": "3a4ed1dc-7fe1-428b-8405-42cc096596f4",
        "colab": {
          "base_uri": "https://localhost:8080/",
          "height": 35
        }
      },
      "source": [
        "if(\"Michael\" in Dict.values()):\n",
        "  print(Dict[\"Genre\"])\n",
        "else:\n",
        "  print(\"None\")"
      ],
      "execution_count": 0,
      "outputs": [
        {
          "output_type": "stream",
          "text": [
            "R&B\n"
          ],
          "name": "stdout"
        }
      ]
    },
    {
      "cell_type": "code",
      "metadata": {
        "id": "VUSg2CX0M0wQ",
        "colab_type": "code",
        "outputId": "4f9ba1b9-9076-466a-ebb1-7d7b77d1703d",
        "colab": {
          "base_uri": "https://localhost:8080/",
          "height": 35
        }
      },
      "source": [
        "# Assignment 4-2\n",
        "\n",
        "# 1\n",
        "# ver.1\n",
        "Kelvin = 400 # <- change this value\n",
        "Celsius = Kelvin - 273\n",
        "Fahrenheit = 1.8 * Celsius + 32\n",
        "print(Celsius, Fahrenheit)"
      ],
      "execution_count": 0,
      "outputs": [
        {
          "output_type": "stream",
          "text": [
            "127 260.6\n"
          ],
          "name": "stdout"
        }
      ]
    },
    {
      "cell_type": "code",
      "metadata": {
        "id": "2e8E-nGHXp82",
        "colab_type": "code",
        "outputId": "382f239f-09a0-430d-f34a-bdbb91a67e0a",
        "colab": {
          "base_uri": "https://localhost:8080/",
          "height": 35
        }
      },
      "source": [
        "# ver.2\n",
        "C = 127 # <- change this\n",
        "K = C + 273\n",
        "F = 1.8 * C + 32\n",
        "print(K, F)"
      ],
      "execution_count": 0,
      "outputs": [
        {
          "output_type": "stream",
          "text": [
            "400 260.6\n"
          ],
          "name": "stdout"
        }
      ]
    },
    {
      "cell_type": "code",
      "metadata": {
        "id": "EhUNkxaUZgN5",
        "colab_type": "code",
        "colab": {}
      },
      "source": [
        "# 2\n",
        "L = [1, 2, 3, 5, 9, 31, 28, 91]"
      ],
      "execution_count": 0,
      "outputs": []
    },
    {
      "cell_type": "code",
      "metadata": {
        "id": "Qz8KNTOg78YS",
        "colab_type": "code",
        "outputId": "7199ce79-376a-4843-d1a8-ba36677d4889",
        "colab": {
          "base_uri": "https://localhost:8080/",
          "height": 35
        }
      },
      "source": [
        "len(L)"
      ],
      "execution_count": 0,
      "outputs": [
        {
          "output_type": "execute_result",
          "data": {
            "text/plain": [
              "8"
            ]
          },
          "metadata": {
            "tags": []
          },
          "execution_count": 87
        }
      ]
    },
    {
      "cell_type": "code",
      "metadata": {
        "id": "2nMqWOwM82ZG",
        "colab_type": "code",
        "colab": {}
      },
      "source": [
        "L_odd_number = []\n",
        "L_even_number = []"
      ],
      "execution_count": 0,
      "outputs": []
    },
    {
      "cell_type": "code",
      "metadata": {
        "id": "XEMKpSxOHGTQ",
        "colab_type": "code",
        "outputId": "9055d56d-09a4-45d5-fbe2-a508da25a8ed",
        "colab": {
          "base_uri": "https://localhost:8080/",
          "height": 161
        }
      },
      "source": [
        "for i in range(8):\n",
        "  print(L[i])"
      ],
      "execution_count": 0,
      "outputs": [
        {
          "output_type": "stream",
          "text": [
            "1\n",
            "2\n",
            "3\n",
            "5\n",
            "9\n",
            "31\n",
            "28\n",
            "91\n"
          ],
          "name": "stdout"
        }
      ]
    },
    {
      "cell_type": "code",
      "metadata": {
        "id": "Grtlinl4CKXz",
        "colab_type": "code",
        "colab": {}
      },
      "source": [
        "for i in range(8):\n",
        "  if(int(L[i]/2) < L[i]/2): # 'int' performs the function of Gauss' notation here.\n",
        "    L_odd_number.append(L[i])\n",
        "  else:\n",
        "    L_even_number.append(L[i])"
      ],
      "execution_count": 0,
      "outputs": []
    },
    {
      "cell_type": "code",
      "metadata": {
        "id": "bJ686z85DZSw",
        "colab_type": "code",
        "outputId": "ca7cee8e-5a61-4577-a44c-3503c3b8b8cb",
        "colab": {
          "base_uri": "https://localhost:8080/",
          "height": 35
        }
      },
      "source": [
        "len(L_odd_number)"
      ],
      "execution_count": 0,
      "outputs": [
        {
          "output_type": "execute_result",
          "data": {
            "text/plain": [
              "6"
            ]
          },
          "metadata": {
            "tags": []
          },
          "execution_count": 91
        }
      ]
    },
    {
      "cell_type": "code",
      "metadata": {
        "id": "tcy6HyaoD0oF",
        "colab_type": "code",
        "outputId": "3bdcc83a-bf04-410e-c0a9-2fa503fb295e",
        "colab": {
          "base_uri": "https://localhost:8080/",
          "height": 35
        }
      },
      "source": [
        "len(L_even_number)"
      ],
      "execution_count": 0,
      "outputs": [
        {
          "output_type": "execute_result",
          "data": {
            "text/plain": [
              "2"
            ]
          },
          "metadata": {
            "tags": []
          },
          "execution_count": 92
        }
      ]
    },
    {
      "cell_type": "code",
      "metadata": {
        "id": "JoX9LTVZH2Fq",
        "colab_type": "code",
        "colab": {}
      },
      "source": [
        "# 3\n",
        "L = [1, 2, 3, 5, 9, 31, 28, 91]"
      ],
      "execution_count": 0,
      "outputs": []
    },
    {
      "cell_type": "code",
      "metadata": {
        "id": "q5GPLzlTLQCr",
        "colab_type": "code",
        "colab": {}
      },
      "source": [
        "L_prime_number = set([])\n",
        "L_not_prime_number = set([])"
      ],
      "execution_count": 0,
      "outputs": []
    },
    {
      "cell_type": "code",
      "metadata": {
        "id": "2Lb7H3ffeGEd",
        "colab_type": "code",
        "colab": {}
      },
      "source": [
        "for i in range(len(L)):\n",
        "  if L[i] != 1:\n",
        "    if int(L[i]/2) < L[i]/2:\n",
        "      if int(L[i]/3) < L[i]/3:\n",
        "        if int(L[i]/5) < L[i]/5:\n",
        "          if int(L[i]/7) < L[i]/7:\n",
        "            L_prime_number.add(L[i])"
      ],
      "execution_count": 0,
      "outputs": []
    },
    {
      "cell_type": "code",
      "metadata": {
        "id": "oZJmij4Dki5Z",
        "colab_type": "code",
        "colab": {
          "base_uri": "https://localhost:8080/",
          "height": 35
        },
        "outputId": "45c43932-d6fa-43f0-80ea-ed1bc4741671"
      },
      "source": [
        "L_prime_number"
      ],
      "execution_count": 165,
      "outputs": [
        {
          "output_type": "execute_result",
          "data": {
            "text/plain": [
              "{31}"
            ]
          },
          "metadata": {
            "tags": []
          },
          "execution_count": 165
        }
      ]
    },
    {
      "cell_type": "code",
      "metadata": {
        "id": "Y6pp1pAui57M",
        "colab_type": "code",
        "colab": {}
      },
      "source": [
        "for i in range(len(L)):\n",
        "  if L[i] != 1:\n",
        "    if int(L[i]/2) == L[i]/2:\n",
        "      L_not_prime_number.add(L[i])\n",
        "      for n in range(1, int(max(L)/2)):\n",
        "        if int(L[i]/(2*n+1)) == L[i]/(2*n+1):\n",
        "          L_not_prime_number.add(L[i])"
      ],
      "execution_count": 0,
      "outputs": []
    }
  ]
}