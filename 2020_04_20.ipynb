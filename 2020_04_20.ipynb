{
  "nbformat": 4,
  "nbformat_minor": 0,
  "metadata": {
    "colab": {
      "name": "2020.04.20.ipynb",
      "provenance": [],
      "authorship_tag": "ABX9TyNNM1g415Ya1L9kUgmiozgA",
      "include_colab_link": true
    },
    "kernelspec": {
      "name": "python3",
      "display_name": "Python 3"
    }
  },
  "cells": [
    {
      "cell_type": "markdown",
      "metadata": {
        "id": "view-in-github",
        "colab_type": "text"
      },
      "source": [
        "<a href=\"https://colab.research.google.com/github/EuGeneB13/EuGeneBaek-H/blob/master/2020_04_20.ipynb\" target=\"_parent\"><img src=\"https://colab.research.google.com/assets/colab-badge.svg\" alt=\"Open In Colab\"/></a>"
      ]
    },
    {
      "cell_type": "code",
      "metadata": {
        "id": "Vskv3MBUsIcX",
        "colab_type": "code",
        "colab": {}
      },
      "source": [
        "import sympy as sp\n",
        "\n",
        "x = sp.symbols('x')\n",
        "y = x**2 +1\n",
        "yp = sp.diff(y)\n",
        "\n",
        "while x in range(-50,50):\n",
        "  x += 0.1\n",
        "  if(yp < 0):\n",
        "    continue\n",
        "  elif(yp == 0):\n",
        "    print(\"The Optimal of X is \", x, \",y is \", y, \"and yp is \", yp)\n",
        "  else:\n",
        "    x -= 0.1"
      ],
      "execution_count": 0,
      "outputs": []
    },
    {
      "cell_type": "code",
      "metadata": {
        "id": "llulzeLm3CUU",
        "colab_type": "code",
        "colab": {}
      },
      "source": [
        ""
      ],
      "execution_count": 0,
      "outputs": []
    }
  ]
}